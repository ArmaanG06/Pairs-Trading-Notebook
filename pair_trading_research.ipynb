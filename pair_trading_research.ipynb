{
 "cells": [
  {
   "cell_type": "markdown",
   "id": "4ab251e0",
   "metadata": {},
   "source": [
    "# Title + Exec Sum."
   ]
  },
  {
   "cell_type": "markdown",
   "id": "271843de",
   "metadata": {},
   "source": [
    "## Config & Utils"
   ]
  },
  {
   "cell_type": "markdown",
   "id": "9381f762",
   "metadata": {},
   "source": [
    "## Data Ingest"
   ]
  },
  {
   "cell_type": "markdown",
   "id": "6a257cec",
   "metadata": {},
   "source": [
    "## Pair Selection"
   ]
  },
  {
   "cell_type": "markdown",
   "id": "8ef44e0b",
   "metadata": {},
   "source": [
    "## Hedge Ratio & Spread"
   ]
  },
  {
   "cell_type": "markdown",
   "id": "14c41d06",
   "metadata": {},
   "source": [
    "## OU Check"
   ]
  },
  {
   "cell_type": "markdown",
   "id": "eb7de650",
   "metadata": {},
   "source": [
    "## Signals & Sizing"
   ]
  },
  {
   "cell_type": "markdown",
   "id": "dfd8bee3",
   "metadata": {},
   "source": [
    "## Cost and Execution"
   ]
  },
  {
   "cell_type": "markdown",
   "id": "d14baa37",
   "metadata": {},
   "source": [
    "## Walk-Forard Backtest"
   ]
  },
  {
   "cell_type": "markdown",
   "id": "a0993f69",
   "metadata": {},
   "source": [
    "## Results"
   ]
  },
  {
   "cell_type": "markdown",
   "id": "4f08a404",
   "metadata": {},
   "source": [
    "## Factor Neautrality"
   ]
  },
  {
   "cell_type": "markdown",
   "id": "373c784f",
   "metadata": {},
   "source": [
    "## Sensitivity Sweeps"
   ]
  },
  {
   "cell_type": "markdown",
   "id": "789f22b3",
   "metadata": {},
   "source": [
    "## Regime Splits"
   ]
  },
  {
   "cell_type": "markdown",
   "id": "9829a919",
   "metadata": {},
   "source": [
    "## OOS Holdout"
   ]
  },
  {
   "cell_type": "markdown",
   "id": "6b1dc23c",
   "metadata": {},
   "source": [
    "## Beta Stability"
   ]
  },
  {
   "cell_type": "markdown",
   "id": "063198fd",
   "metadata": {},
   "source": [
    "## Structural Breaks"
   ]
  },
  {
   "cell_type": "markdown",
   "id": "77a56ed4",
   "metadata": {},
   "source": [
    "## Cost Stress Test"
   ]
  },
  {
   "cell_type": "markdown",
   "id": "c1ed2275",
   "metadata": {},
   "source": [
    "## ML Ranker for Pairs"
   ]
  },
  {
   "cell_type": "markdown",
   "id": "c9205c99",
   "metadata": {},
   "source": [
    "## Intraday Extensions"
   ]
  }
 ],
 "metadata": {
  "language_info": {
   "name": "python"
  }
 },
 "nbformat": 4,
 "nbformat_minor": 5
}
